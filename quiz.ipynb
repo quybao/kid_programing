{
  "cells": [
    {
      "metadata": {
        "trusted": true
      },
      "cell_type": "code",
      "source": "import csv\nimport random\n\nwords = []\nalready_tested_words = [] \nwith open('insteadofvery.csv') as csvfile:\n    datareader = csv.reader(csvfile, delimiter=',')\n    words = [row for row in datareader]    \n\n\n# now pick a word to test\ndef do_test(words, already_tested_words):\n    while True:\n        test_word = words[random.randint(0,len(words) - 1)]\n        if test_word not in already_tested_words:\n            already_tested_words.append(test_word)\n            break\n\n    # now pick another 3 words used for multiple choices\n    multiple_choices = []\n    multiple_choices.append(test_word)\n    while(len(multiple_choices) < 4):\n        choice_word = words[random.randint(0,len(words) - 1)]\n        if choice_word not in multiple_choices:\n            multiple_choices.append(choice_word)\n\n    shuffle_choices = random.sample(multiple_choices, len(multiple_choices))\n\n    correct = False\n    while(correct != True):\n        print('\\nWhat can be used instead of \"{}\"? (type the number corresponding to correct answer)'.format(test_word[0]))\n        for i,choice in enumerate(shuffle_choices):\n            print(\"{}: {}\".format(i + 1, choice[1].strip()))\n        print('', flush=True)\n\n        answer = input('Your answer: ')\n        try:\n            if (shuffle_choices[int(answer) - 1][1] == test_word[1]):\n                print(\"You are correct. Good job!\")\n                correct = True\n            else:\n                print(\"Sorry, that's not correct. Let's try again.\\n\")\n        except:\n            print(\"Please enter the number from 1 to 4.\")\n            \n\nround_text = input(\"Welcome. How many words do you want to test today? \")\nrounds = int(round_text)\nfor i in range(0,rounds):\n    do_test(words, already_tested_words)\n    if i < rounds - 1:\n        print(\"\\nLet's do another one\")\n    else:\n        print('\\nCongratulation! You master {} ways of not using \"very\" today.'.format(rounds))",
      "execution_count": null,
      "outputs": []
    },
    {
      "metadata": {
        "trusted": true
      },
      "cell_type": "code",
      "source": "",
      "execution_count": null,
      "outputs": []
    }
  ],
  "metadata": {
    "kernelspec": {
      "name": "python36",
      "display_name": "Python 3.6",
      "language": "python"
    },
    "language_info": {
      "mimetype": "text/x-python",
      "nbconvert_exporter": "python",
      "name": "python",
      "pygments_lexer": "ipython3",
      "version": "3.6.6",
      "file_extension": ".py",
      "codemirror_mode": {
        "version": 3,
        "name": "ipython"
      }
    }
  },
  "nbformat": 4,
  "nbformat_minor": 2
}